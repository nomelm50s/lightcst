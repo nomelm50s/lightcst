{
 "cells": [
  {
   "cell_type": "markdown",
   "id": "6c26d7ce",
   "metadata": {
    "tags": []
   },
   "source": [
    "# Automated - Analysis of Electrical Light Use\n",
    "\n",
    "This program is being created to determine the approximate cost of running the outdoor lights all night. The lights are currently controlled by a node-red flow running on a virtual instance of Ubuntu 20.04 running on a Windows 10 computer. The node-red flow also writes a packet of data to a CSV file every 2 minutes. The \"LightStatus.csv\" file is located in the '~/Public' folder and is accessible from any machine on the local network.\n",
    "\n",
    "A function 'GetRelayState()' in the node-red flow captures the 'date,time', 'device name', and status of each switch on the network.These values are stored in the node-red msg.payload object and then are written to the 'LightStatus.csv' file."
   ]
  },
  {
   "cell_type": "markdown",
   "id": "6b81a719",
   "metadata": {
    "tags": []
   },
   "source": [
    "## Functional specifications\n",
    "\n",
    "* The program should present a simple interface that allows you to choose a data folder.\n",
    "* Then the program needs to read a CSV file and parse the columns into lists.\n",
    "* The need to be scanned to find the on and off times for the lights.\n",
    "* The on and off times need to be converted to the date/time type so they can be used in the calculations.\n",
    "* Device names are strings\n",
    "* The switch State could be converted to true or false data type\n",
    "* The approximate current draw needs to be determined for each switch based on the number of bulbs times their documented current draw.\n",
    "* Once the conversions are complete the total time the lights are on each day, and the total time on will be calculated.\n",
    "* The calculate power use values will be plotted on bar chart and saved in a file."
   ]
  },
  {
   "cell_type": "markdown",
   "id": "ed196683-3eff-4615-993a-0b0d943bcd70",
   "metadata": {},
   "source": [
    "## Project Structure\n",
    "\n",
    "\n",
    "```\n",
    "\n",
    "~/projects\n",
    "    └── lightcst\n",
    "        ├── data\n",
    "        │   ├── Lighton.txt\n",
    "        │   ├── LightStatus001.csv\n",
    "        │   ├── LightStatus1.txt\n",
    "        │   ├── LightStatus2.txt\n",
    "        │   ├── LightStatus3.txt\n",
    "        │   ├── LightStatus4.txt\n",
    "        │   ├── LightStatus.csv\n",
    "        │   ├── LightStatusold.csv\n",
    "        │   └── LightStatus.txt\n",
    "        ├── docs\n",
    "        │   ├── CalcLightTime.ipynb\n",
    "        │   ├── devplan.ipynb\n",
    "        │   └── exampledocs.txt\n",
    "        ├── LICENSE.txt\n",
    "        ├── MANIFEST.in\n",
    "        ├── README.md\n",
    "        ├── requirements.txt\n",
    "        ├── setup.cfg\n",
    "        ├── setup.py\n",
    "        ├── src\n",
    "        │   ├── calclighttime.py\n",
    "        │   ├── checkingontimes.py\n",
    "        │   ├── get_file.py\n",
    "        │   ├── __pycache__\n",
    "        │   │   ├── calclighttime.cpython-38.pyc\n",
    "        │   │   └── calclighttime.cpython-39.pyc\n",
    "        │   ├── readlineOld.py\n",
    "        │   └── readline.py\n",
    "        └── tests\n",
    "            ├── examaple\n",
    "            └── tests.py\n",
    "```"
   ]
  },
  {
   "cell_type": "markdown",
   "id": "33de4c90",
   "metadata": {},
   "source": [
    "## Date and Time Conversion\n",
    "\n",
    "The first part of date and time tracking was getting the date and time stamp into the csv file so it could be easily used in this analysis program later. The date and time is formatted by a Node-RED flow called Outside Lights. The flow manages turning the lights on at night and off in the morning. It also sends a few bits of data from the msg.payload object. The code shown below is the JavaScript code that formats these bits of data and places them in the msg.payload object.\n",
    "* __name__ contains a unique network name of each switch.\n",
    "* __state__ is a boolean 1 or 0 that indicates the switch is on or off respectively .\n",
    "* __ustime__ holds the date and time values in a 24 hour format so the AM and PM flags are not needed.\n",
    "Finally the values are all stored in payload object and passed along to the write file processes by the return.msg statement.\n",
    "\n",
    "## GetRelayState Javascript function\n",
    "\n",
    "``` javascript\n",
    "\n",
    "name = msg.payload.alias;\n",
    "state = msg.payload.relay_state;\n",
    "ustime = new Date().toLocaleString(\"en-US\", {hour12:false, timeZone:\"America/Detroit\"});\n",
    "\n",
    "msg.payload = [ustime, name, state];\n",
    "\n",
    "return msg;\n",
    "\n",
    "```"
   ]
  },
  {
   "cell_type": "markdown",
   "id": "365a4ebe",
   "metadata": {
    "tags": []
   },
   "source": [
    "Samples of the data rows in the csv file created in the GetRelayState function are shown below.\n",
    "\n",
    "na,State,Name,Date\n",
    "[\"xx\",0,\"Front Lights\",\"22/01/20T08:08:22\"]\n",
    "[\"xx\",0,\"Back Yard Lights\",\"22/01/20T08:08:22\"]\n"
   ]
  },
  {
   "cell_type": "markdown",
   "id": "cc85659c-0999-4660-9063-16c4a59153a3",
   "metadata": {
    "tags": []
   },
   "source": [
    "## calclighttime.py - Python"
   ]
  },
  {
   "cell_type": "markdown",
   "id": "e214b6e5-c91d-4267-b3c1-d89ebfda22b7",
   "metadata": {
    "tags": []
   },
   "source": [
    "[Link to the CalcLightTime notebook](http://0.0.0.0:8888/lab/tree/docs/CalcLightTime.ipynb)  \n",
    "This CalcLightTime notebook contains all of the code and comments developed to read a csv file as a Pandas data frame. It includes code that illustrates how date and time srings are converted to date and time objects so math operations can be perfomred."
   ]
  },
  {
   "cell_type": "markdown",
   "id": "c4ccb37b-f407-4f5e-a3fc-c82c1117520b",
   "metadata": {
    "tags": []
   },
   "source": [
    "Generated the requirements.txt file with pipreqs. The command **\"pipreqs /home/mikee/Python_proj/lightcst/ --force\"**  \n",
    "was used create the requirements.txt file. It was installed with **\"pip install pipreqs\"**"
   ]
  },
  {
   "cell_type": "markdown",
   "id": "77dc2637-d37d-4875-8b4b-a808c77094c9",
   "metadata": {},
   "source": []
  }
 ],
 "metadata": {
  "interpreter": {
   "hash": "916dbcbb3f70747c44a77c7bcd40155683ae19c65e1c03b4aa3499c5328201f1"
  },
  "kernelspec": {
   "display_name": "Python 3 (ipykernel)",
   "language": "python",
   "name": "python3"
  },
  "language_info": {
   "codemirror_mode": {
    "name": "ipython",
    "version": 3
   },
   "file_extension": ".py",
   "mimetype": "text/x-python",
   "name": "python",
   "nbconvert_exporter": "python",
   "pygments_lexer": "ipython3",
   "version": "3.9.7"
  }
 },
 "nbformat": 4,
 "nbformat_minor": 5
}
