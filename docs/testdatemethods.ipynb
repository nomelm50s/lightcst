{
 "cells": [
  {
   "cell_type": "markdown",
   "id": "6c26d7ce",
   "metadata": {},
   "source": []
  },
  {
   "cell_type": "code",
   "execution_count": 17,
   "id": "9580068a",
   "metadata": {},
   "outputs": [],
   "source": [
    "from matplotlib import pyplot as plt\n",
    "import pandas as pd\n",
    "import datetime"
   ]
  },
  {
   "cell_type": "code",
   "execution_count": 18,
   "id": "eadf3ef3",
   "metadata": {},
   "outputs": [],
   "source": [
    "df = pd.read_csv('/home/mikee/projects/lightcst/data/LightStatus.csv')"
   ]
  },
  {
   "cell_type": "code",
   "execution_count": 19,
   "id": "e1de01ce",
   "metadata": {},
   "outputs": [
    {
     "data": {
      "text/html": [
       "<div>\n",
       "<style scoped>\n",
       "    .dataframe tbody tr th:only-of-type {\n",
       "        vertical-align: middle;\n",
       "    }\n",
       "\n",
       "    .dataframe tbody tr th {\n",
       "        vertical-align: top;\n",
       "    }\n",
       "\n",
       "    .dataframe thead th {\n",
       "        text-align: right;\n",
       "    }\n",
       "</style>\n",
       "<table border=\"1\" class=\"dataframe\">\n",
       "  <thead>\n",
       "    <tr style=\"text-align: right;\">\n",
       "      <th></th>\n",
       "      <th>na</th>\n",
       "      <th>State</th>\n",
       "      <th>Name</th>\n",
       "      <th>Date</th>\n",
       "    </tr>\n",
       "  </thead>\n",
       "  <tbody>\n",
       "    <tr>\n",
       "      <th>0</th>\n",
       "      <td>[\"xx\"</td>\n",
       "      <td>0</td>\n",
       "      <td>Front Lights</td>\n",
       "      <td>22/01/20T08:08:22]</td>\n",
       "    </tr>\n",
       "    <tr>\n",
       "      <th>1</th>\n",
       "      <td>[\"xx\"</td>\n",
       "      <td>0</td>\n",
       "      <td>Back Yard Lights</td>\n",
       "      <td>22/01/20T08:08:22]</td>\n",
       "    </tr>\n",
       "    <tr>\n",
       "      <th>2</th>\n",
       "      <td>[\"xx\"</td>\n",
       "      <td>0</td>\n",
       "      <td>Back Yard Lights</td>\n",
       "      <td>22/01/20T08:09:20]</td>\n",
       "    </tr>\n",
       "    <tr>\n",
       "      <th>3</th>\n",
       "      <td>[\"xx\"</td>\n",
       "      <td>0</td>\n",
       "      <td>Front Lights</td>\n",
       "      <td>22/01/20T08:09:21]</td>\n",
       "    </tr>\n",
       "    <tr>\n",
       "      <th>4</th>\n",
       "      <td>[\"xx\"</td>\n",
       "      <td>0</td>\n",
       "      <td>Front Lights</td>\n",
       "      <td>22/01/20T08:10:21]</td>\n",
       "    </tr>\n",
       "    <tr>\n",
       "      <th>...</th>\n",
       "      <td>...</td>\n",
       "      <td>...</td>\n",
       "      <td>...</td>\n",
       "      <td>...</td>\n",
       "    </tr>\n",
       "    <tr>\n",
       "      <th>73583</th>\n",
       "      <td>[\"xx\"</td>\n",
       "      <td>0</td>\n",
       "      <td>Back Yard Lights</td>\n",
       "      <td>22/03/19T07:35:58]</td>\n",
       "    </tr>\n",
       "    <tr>\n",
       "      <th>73584</th>\n",
       "      <td>[\"xx\"</td>\n",
       "      <td>0</td>\n",
       "      <td>Back Yard Lights</td>\n",
       "      <td>22/03/19T07:38:58]</td>\n",
       "    </tr>\n",
       "    <tr>\n",
       "      <th>73585</th>\n",
       "      <td>[\"xx\"</td>\n",
       "      <td>0</td>\n",
       "      <td>Back Yard Lights</td>\n",
       "      <td>22/03/19T07:41:58]</td>\n",
       "    </tr>\n",
       "    <tr>\n",
       "      <th>73586</th>\n",
       "      <td>[\"xx\"</td>\n",
       "      <td>0</td>\n",
       "      <td>Back Yard Lights</td>\n",
       "      <td>22/03/19T07:44:58]</td>\n",
       "    </tr>\n",
       "    <tr>\n",
       "      <th>73587</th>\n",
       "      <td>[\"xx\"</td>\n",
       "      <td>0</td>\n",
       "      <td>Back Yard Lights</td>\n",
       "      <td>22/03/19T07:46:58]</td>\n",
       "    </tr>\n",
       "  </tbody>\n",
       "</table>\n",
       "<p>73588 rows × 4 columns</p>\n",
       "</div>"
      ],
      "text/plain": [
       "          na  State              Name                Date\n",
       "0      [\"xx\"      0      Front Lights  22/01/20T08:08:22]\n",
       "1      [\"xx\"      0  Back Yard Lights  22/01/20T08:08:22]\n",
       "2      [\"xx\"      0  Back Yard Lights  22/01/20T08:09:20]\n",
       "3      [\"xx\"      0      Front Lights  22/01/20T08:09:21]\n",
       "4      [\"xx\"      0      Front Lights  22/01/20T08:10:21]\n",
       "...      ...    ...               ...                 ...\n",
       "73583  [\"xx\"      0  Back Yard Lights  22/03/19T07:35:58]\n",
       "73584  [\"xx\"      0  Back Yard Lights  22/03/19T07:38:58]\n",
       "73585  [\"xx\"      0  Back Yard Lights  22/03/19T07:41:58]\n",
       "73586  [\"xx\"      0  Back Yard Lights  22/03/19T07:44:58]\n",
       "73587  [\"xx\"      0  Back Yard Lights  22/03/19T07:46:58]\n",
       "\n",
       "[73588 rows x 4 columns]"
      ]
     },
     "execution_count": 19,
     "metadata": {},
     "output_type": "execute_result"
    }
   ],
   "source": [
    "df"
   ]
  },
  {
   "cell_type": "code",
   "execution_count": 20,
   "id": "4b2bd434",
   "metadata": {},
   "outputs": [],
   "source": [
    "dates = df['Date']"
   ]
  },
  {
   "cell_type": "code",
   "execution_count": 21,
   "id": "23f06326",
   "metadata": {},
   "outputs": [
    {
     "data": {
      "text/plain": [
       "0        22/01/20T08:08:22]\n",
       "1        22/01/20T08:08:22]\n",
       "2        22/01/20T08:09:20]\n",
       "3        22/01/20T08:09:21]\n",
       "4        22/01/20T08:10:21]\n",
       "                ...        \n",
       "73583    22/03/19T07:35:58]\n",
       "73584    22/03/19T07:38:58]\n",
       "73585    22/03/19T07:41:58]\n",
       "73586    22/03/19T07:44:58]\n",
       "73587    22/03/19T07:46:58]\n",
       "Name: Date, Length: 73588, dtype: object"
      ]
     },
     "execution_count": 21,
     "metadata": {},
     "output_type": "execute_result"
    }
   ],
   "source": [
    "dates"
   ]
  },
  {
   "cell_type": "code",
   "execution_count": 22,
   "id": "f9e0e211",
   "metadata": {},
   "outputs": [],
   "source": [
    "format = '%y/%m/%dT%H:%M:%S]' # The date format string used to convert to a datetime object\n",
    "switchname = 'Front Lights'\n",
    "p_row = 0"
   ]
  },
  {
   "cell_type": "code",
   "execution_count": 23,
   "id": "41179ef9",
   "metadata": {},
   "outputs": [
    {
     "ename": "IndentationError",
     "evalue": "expected an indented block (1090485923.py, line 6)",
     "output_type": "error",
     "traceback": [
      "\u001b[0;36m  Input \u001b[0;32mIn [23]\u001b[0;36m\u001b[0m\n\u001b[0;31m    \u001b[0m\n\u001b[0m    ^\u001b[0m\n\u001b[0;31mIndentationError\u001b[0m\u001b[0;31m:\u001b[0m expected an indented block\n"
     ]
    }
   ],
   "source": [
    "for index, row in df.iterrows():\n",
    "        if row['Name'] == switchname:\n",
    "            if row['State'] == 1 and p_row == 0: # Find the first occurance of ON when OFF for the named switch.\n",
    "                flstart = datetime.datetime.strptime(row['Date'], format)\n",
    "            if flend != 0: # The lights are still ON\n",
    "                "
   ]
  },
  {
   "cell_type": "code",
   "execution_count": null,
   "id": "b8ec56e3",
   "metadata": {},
   "outputs": [],
   "source": [
    "                datestr = row['Date'].split(\"T\")[0]"
   ]
  },
  {
   "cell_type": "code",
   "execution_count": null,
   "id": "c146a591",
   "metadata": {},
   "outputs": [
    {
     "data": {
      "text/plain": [
       "'22/03/19'"
      ]
     },
     "execution_count": 97,
     "metadata": {},
     "output_type": "execute_result"
    }
   ],
   "source": [
    "datestr"
   ]
  },
  {
   "cell_type": "code",
   "execution_count": null,
   "id": "2aae4268",
   "metadata": {},
   "outputs": [],
   "source": []
  }
 ],
 "metadata": {
  "kernelspec": {
   "display_name": "Python 3 (ipykernel)",
   "language": "python",
   "name": "python3"
  },
  "language_info": {
   "codemirror_mode": {
    "name": "ipython",
    "version": 3
   },
   "file_extension": ".py",
   "mimetype": "text/x-python",
   "name": "python",
   "nbconvert_exporter": "python",
   "pygments_lexer": "ipython3",
   "version": "3.9.7"
  }
 },
 "nbformat": 4,
 "nbformat_minor": 5
}
