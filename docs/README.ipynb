{
 "cells": [
  {
   "cell_type": "markdown",
   "id": "6c26d7ce",
   "metadata": {},
   "source": [
    "# Automated Light - Electrical Use Analysis\n",
    "\n",
    "This function is being created to determine the approximate cost of running the outdoor lights all night. The lights are currently controlled by a node-red flow running on a virtual instance of Ubuntu 20.04 running on a Windows 10 computer. The node-red flow also writes a packet of data to a CSV file every 2 minutes. The \"LightStatus.csv\" file is located in the '~/Public' folder and is accessible from any machine on the local network.\n",
    "\n",
    "A function 'GetRelayState()' in the node-red flow captures the 'date,time', 'device name', and status of each switch on the network.These values are stored in the node-red msg.payload object and then are written to the 'LightStatus.csv' file."
   ]
  },
  {
   "cell_type": "markdown",
   "id": "6b81a719",
   "metadata": {},
   "source": [
    "### Functional specifications\n",
    "\n",
    "* The program needs to read the CSV file and parse the columns into lists.\n",
    "* These objects then need to be converted to the correct type so they can be used in the analysis calculations.\n",
    "* Date and time need to be converted to date and time data types\n",
    "* Device names are strings\n",
    "* state should be converted to true or false data type\n",
    "* The approximate current draw needs to be determined for each switch based on the number of bulbs times their documented current draw.\n",
    "* Once the conversions are complete the total time on for each day needs to be calculated.\n",
    "* The calculate power use values will be plotted on bar chart versus time."
   ]
  },
  {
   "cell_type": "markdown",
   "id": "33de4c90",
   "metadata": {},
   "source": [
    "#### Date and Time Conversion\n",
    "\n",
    "The first part of date and time tracking was getting the date and time stamp into the csv file so it could be easily used in this analysis program later. The date and time is formatted by a Node-RED flow called Outside Lights. The flow manages turning the lights on at night and off in the morning. It also sends a few bits of data from the msg.payload object. The code shown below is the JavaScript code that formats these bits of data and places them in the msg.payload object.\n",
    "* __name__ contains a unique network name of each switch.\n",
    "* __state__ is a boolean 1 or 0 that indicates the switch is on or off respectively .\n",
    "* __ustime__ holds the date and time values in a 24 hour format so the AM and PM flags are not needed.\n",
    "Finally the values are all stored in payload object and passed along to the write file processes by the return.msg statement.\n",
    "\n",
    "#### GetRelayState Javascript function\n",
    "\n",
    "``` javascript\n",
    "\n",
    "name = msg.payload.alias;\n",
    "state = msg.payload.relay_state;\n",
    "ustime = new Date().toLocaleString(\"en-US\", {hour12:false, timeZone:\"America/Detroit\"});\n",
    "\n",
    "msg.payload = [ustime, name, state];\n",
    "\n",
    "return msg;\n",
    "\n",
    "```"
   ]
  },
  {
   "cell_type": "markdown",
   "id": "365a4ebe",
   "metadata": {},
   "source": [
    "Samples of the output data from the GetRelayState function are shown below.\n",
    "\n",
    "{\"usatime\":\"1/16/2022, 15:44:11\",\"name\":\"Front Lights\",\"state\":0}\n",
    "{\"usatime\":\"1/16/2022, 15:44:11\",\"name\":\"Back Yard Lights\",\"state\":0}\n",
    "{\"usatime\":\"1/16/2022, 15:45:11\",\"name\":\"Front Lights\",\"state\":0}\n",
    "{\"usatime\":\"1/16/2022, 15:45:11\",\"name\":\"Back Yard Lights\",\"state\":0}\n",
    "\n"
   ]
  },
  {
   "cell_type": "code",
   "execution_count": 6,
   "id": "9580068a",
   "metadata": {},
   "outputs": [],
   "source": [
    "from matplotlib import pyplot as plt\n",
    "import pandas as pd\n",
    "from datetime import date\n",
    "from datetime import time\n",
    "import re, datetime\n",
    "import datetime as dt"
   ]
  },
  {
   "cell_type": "code",
   "execution_count": 7,
   "id": "3697d5b2",
   "metadata": {
    "scrolled": false
   },
   "outputs": [
    {
     "ename": "ValueError",
     "evalue": "Missing column provided to 'parse_dates': 'Date'",
     "output_type": "error",
     "traceback": [
      "\u001b[0;31m---------------------------------------------------------------------------\u001b[0m",
      "\u001b[0;31mValueError\u001b[0m                                Traceback (most recent call last)",
      "\u001b[0;32m/tmp/ipykernel_11344/3066338106.py\u001b[0m in \u001b[0;36m<module>\u001b[0;34m\u001b[0m\n\u001b[0;32m----> 1\u001b[0;31m \u001b[0mdf\u001b[0m \u001b[0;34m=\u001b[0m \u001b[0mpd\u001b[0m\u001b[0;34m.\u001b[0m\u001b[0mread_csv\u001b[0m\u001b[0;34m(\u001b[0m\u001b[0;34m'LightStatusc.csv'\u001b[0m\u001b[0;34m,\u001b[0m \u001b[0mparse_dates\u001b[0m\u001b[0;34m=\u001b[0m\u001b[0;34m[\u001b[0m\u001b[0;34m\"Date\"\u001b[0m\u001b[0;34m]\u001b[0m\u001b[0;34m)\u001b[0m\u001b[0;34m\u001b[0m\u001b[0;34m\u001b[0m\u001b[0m\n\u001b[0m",
      "\u001b[0;32m~/anaconda3/lib/python3.9/site-packages/pandas/util/_decorators.py\u001b[0m in \u001b[0;36mwrapper\u001b[0;34m(*args, **kwargs)\u001b[0m\n\u001b[1;32m    309\u001b[0m                     \u001b[0mstacklevel\u001b[0m\u001b[0;34m=\u001b[0m\u001b[0mstacklevel\u001b[0m\u001b[0;34m,\u001b[0m\u001b[0;34m\u001b[0m\u001b[0;34m\u001b[0m\u001b[0m\n\u001b[1;32m    310\u001b[0m                 )\n\u001b[0;32m--> 311\u001b[0;31m             \u001b[0;32mreturn\u001b[0m \u001b[0mfunc\u001b[0m\u001b[0;34m(\u001b[0m\u001b[0;34m*\u001b[0m\u001b[0margs\u001b[0m\u001b[0;34m,\u001b[0m \u001b[0;34m**\u001b[0m\u001b[0mkwargs\u001b[0m\u001b[0;34m)\u001b[0m\u001b[0;34m\u001b[0m\u001b[0;34m\u001b[0m\u001b[0m\n\u001b[0m\u001b[1;32m    312\u001b[0m \u001b[0;34m\u001b[0m\u001b[0m\n\u001b[1;32m    313\u001b[0m         \u001b[0;32mreturn\u001b[0m \u001b[0mwrapper\u001b[0m\u001b[0;34m\u001b[0m\u001b[0;34m\u001b[0m\u001b[0m\n",
      "\u001b[0;32m~/anaconda3/lib/python3.9/site-packages/pandas/io/parsers/readers.py\u001b[0m in \u001b[0;36mread_csv\u001b[0;34m(filepath_or_buffer, sep, delimiter, header, names, index_col, usecols, squeeze, prefix, mangle_dupe_cols, dtype, engine, converters, true_values, false_values, skipinitialspace, skiprows, skipfooter, nrows, na_values, keep_default_na, na_filter, verbose, skip_blank_lines, parse_dates, infer_datetime_format, keep_date_col, date_parser, dayfirst, cache_dates, iterator, chunksize, compression, thousands, decimal, lineterminator, quotechar, quoting, doublequote, escapechar, comment, encoding, encoding_errors, dialect, error_bad_lines, warn_bad_lines, on_bad_lines, delim_whitespace, low_memory, memory_map, float_precision, storage_options)\u001b[0m\n\u001b[1;32m    584\u001b[0m     \u001b[0mkwds\u001b[0m\u001b[0;34m.\u001b[0m\u001b[0mupdate\u001b[0m\u001b[0;34m(\u001b[0m\u001b[0mkwds_defaults\u001b[0m\u001b[0;34m)\u001b[0m\u001b[0;34m\u001b[0m\u001b[0;34m\u001b[0m\u001b[0m\n\u001b[1;32m    585\u001b[0m \u001b[0;34m\u001b[0m\u001b[0m\n\u001b[0;32m--> 586\u001b[0;31m     \u001b[0;32mreturn\u001b[0m \u001b[0m_read\u001b[0m\u001b[0;34m(\u001b[0m\u001b[0mfilepath_or_buffer\u001b[0m\u001b[0;34m,\u001b[0m \u001b[0mkwds\u001b[0m\u001b[0;34m)\u001b[0m\u001b[0;34m\u001b[0m\u001b[0;34m\u001b[0m\u001b[0m\n\u001b[0m\u001b[1;32m    587\u001b[0m \u001b[0;34m\u001b[0m\u001b[0m\n\u001b[1;32m    588\u001b[0m \u001b[0;34m\u001b[0m\u001b[0m\n",
      "\u001b[0;32m~/anaconda3/lib/python3.9/site-packages/pandas/io/parsers/readers.py\u001b[0m in \u001b[0;36m_read\u001b[0;34m(filepath_or_buffer, kwds)\u001b[0m\n\u001b[1;32m    480\u001b[0m \u001b[0;34m\u001b[0m\u001b[0m\n\u001b[1;32m    481\u001b[0m     \u001b[0;31m# Create the parser.\u001b[0m\u001b[0;34m\u001b[0m\u001b[0;34m\u001b[0m\u001b[0m\n\u001b[0;32m--> 482\u001b[0;31m     \u001b[0mparser\u001b[0m \u001b[0;34m=\u001b[0m \u001b[0mTextFileReader\u001b[0m\u001b[0;34m(\u001b[0m\u001b[0mfilepath_or_buffer\u001b[0m\u001b[0;34m,\u001b[0m \u001b[0;34m**\u001b[0m\u001b[0mkwds\u001b[0m\u001b[0;34m)\u001b[0m\u001b[0;34m\u001b[0m\u001b[0;34m\u001b[0m\u001b[0m\n\u001b[0m\u001b[1;32m    483\u001b[0m \u001b[0;34m\u001b[0m\u001b[0m\n\u001b[1;32m    484\u001b[0m     \u001b[0;32mif\u001b[0m \u001b[0mchunksize\u001b[0m \u001b[0;32mor\u001b[0m \u001b[0miterator\u001b[0m\u001b[0;34m:\u001b[0m\u001b[0;34m\u001b[0m\u001b[0;34m\u001b[0m\u001b[0m\n",
      "\u001b[0;32m~/anaconda3/lib/python3.9/site-packages/pandas/io/parsers/readers.py\u001b[0m in \u001b[0;36m__init__\u001b[0;34m(self, f, engine, **kwds)\u001b[0m\n\u001b[1;32m    809\u001b[0m             \u001b[0mself\u001b[0m\u001b[0;34m.\u001b[0m\u001b[0moptions\u001b[0m\u001b[0;34m[\u001b[0m\u001b[0;34m\"has_index_names\"\u001b[0m\u001b[0;34m]\u001b[0m \u001b[0;34m=\u001b[0m \u001b[0mkwds\u001b[0m\u001b[0;34m[\u001b[0m\u001b[0;34m\"has_index_names\"\u001b[0m\u001b[0;34m]\u001b[0m\u001b[0;34m\u001b[0m\u001b[0;34m\u001b[0m\u001b[0m\n\u001b[1;32m    810\u001b[0m \u001b[0;34m\u001b[0m\u001b[0m\n\u001b[0;32m--> 811\u001b[0;31m         \u001b[0mself\u001b[0m\u001b[0;34m.\u001b[0m\u001b[0m_engine\u001b[0m \u001b[0;34m=\u001b[0m \u001b[0mself\u001b[0m\u001b[0;34m.\u001b[0m\u001b[0m_make_engine\u001b[0m\u001b[0;34m(\u001b[0m\u001b[0mself\u001b[0m\u001b[0;34m.\u001b[0m\u001b[0mengine\u001b[0m\u001b[0;34m)\u001b[0m\u001b[0;34m\u001b[0m\u001b[0;34m\u001b[0m\u001b[0m\n\u001b[0m\u001b[1;32m    812\u001b[0m \u001b[0;34m\u001b[0m\u001b[0m\n\u001b[1;32m    813\u001b[0m     \u001b[0;32mdef\u001b[0m \u001b[0mclose\u001b[0m\u001b[0;34m(\u001b[0m\u001b[0mself\u001b[0m\u001b[0;34m)\u001b[0m\u001b[0;34m:\u001b[0m\u001b[0;34m\u001b[0m\u001b[0;34m\u001b[0m\u001b[0m\n",
      "\u001b[0;32m~/anaconda3/lib/python3.9/site-packages/pandas/io/parsers/readers.py\u001b[0m in \u001b[0;36m_make_engine\u001b[0;34m(self, engine)\u001b[0m\n\u001b[1;32m   1038\u001b[0m             )\n\u001b[1;32m   1039\u001b[0m         \u001b[0;31m# error: Too many arguments for \"ParserBase\"\u001b[0m\u001b[0;34m\u001b[0m\u001b[0;34m\u001b[0m\u001b[0m\n\u001b[0;32m-> 1040\u001b[0;31m         \u001b[0;32mreturn\u001b[0m \u001b[0mmapping\u001b[0m\u001b[0;34m[\u001b[0m\u001b[0mengine\u001b[0m\u001b[0;34m]\u001b[0m\u001b[0;34m(\u001b[0m\u001b[0mself\u001b[0m\u001b[0;34m.\u001b[0m\u001b[0mf\u001b[0m\u001b[0;34m,\u001b[0m \u001b[0;34m**\u001b[0m\u001b[0mself\u001b[0m\u001b[0;34m.\u001b[0m\u001b[0moptions\u001b[0m\u001b[0;34m)\u001b[0m  \u001b[0;31m# type: ignore[call-arg]\u001b[0m\u001b[0;34m\u001b[0m\u001b[0;34m\u001b[0m\u001b[0m\n\u001b[0m\u001b[1;32m   1041\u001b[0m \u001b[0;34m\u001b[0m\u001b[0m\n\u001b[1;32m   1042\u001b[0m     \u001b[0;32mdef\u001b[0m \u001b[0m_failover_to_python\u001b[0m\u001b[0;34m(\u001b[0m\u001b[0mself\u001b[0m\u001b[0;34m)\u001b[0m\u001b[0;34m:\u001b[0m\u001b[0;34m\u001b[0m\u001b[0;34m\u001b[0m\u001b[0m\n",
      "\u001b[0;32m~/anaconda3/lib/python3.9/site-packages/pandas/io/parsers/c_parser_wrapper.py\u001b[0m in \u001b[0;36m__init__\u001b[0;34m(self, src, **kwds)\u001b[0m\n\u001b[1;32m    154\u001b[0m \u001b[0;34m\u001b[0m\u001b[0m\n\u001b[1;32m    155\u001b[0m         \u001b[0;31m# error: Cannot determine type of 'names'\u001b[0m\u001b[0;34m\u001b[0m\u001b[0;34m\u001b[0m\u001b[0m\n\u001b[0;32m--> 156\u001b[0;31m         \u001b[0mself\u001b[0m\u001b[0;34m.\u001b[0m\u001b[0m_validate_parse_dates_presence\u001b[0m\u001b[0;34m(\u001b[0m\u001b[0mself\u001b[0m\u001b[0;34m.\u001b[0m\u001b[0mnames\u001b[0m\u001b[0;34m)\u001b[0m  \u001b[0;31m# type: ignore[has-type]\u001b[0m\u001b[0;34m\u001b[0m\u001b[0;34m\u001b[0m\u001b[0m\n\u001b[0m\u001b[1;32m    157\u001b[0m         \u001b[0mself\u001b[0m\u001b[0;34m.\u001b[0m\u001b[0m_set_noconvert_columns\u001b[0m\u001b[0;34m(\u001b[0m\u001b[0;34m)\u001b[0m\u001b[0;34m\u001b[0m\u001b[0;34m\u001b[0m\u001b[0m\n\u001b[1;32m    158\u001b[0m \u001b[0;34m\u001b[0m\u001b[0m\n",
      "\u001b[0;32m~/anaconda3/lib/python3.9/site-packages/pandas/io/parsers/base_parser.py\u001b[0m in \u001b[0;36m_validate_parse_dates_presence\u001b[0;34m(self, columns)\u001b[0m\n\u001b[1;32m    274\u001b[0m         )\n\u001b[1;32m    275\u001b[0m         \u001b[0;32mif\u001b[0m \u001b[0mmissing_cols\u001b[0m\u001b[0;34m:\u001b[0m\u001b[0;34m\u001b[0m\u001b[0;34m\u001b[0m\u001b[0m\n\u001b[0;32m--> 276\u001b[0;31m             raise ValueError(\n\u001b[0m\u001b[1;32m    277\u001b[0m                 \u001b[0;34mf\"Missing column provided to 'parse_dates': '{missing_cols}'\"\u001b[0m\u001b[0;34m\u001b[0m\u001b[0;34m\u001b[0m\u001b[0m\n\u001b[1;32m    278\u001b[0m             )\n",
      "\u001b[0;31mValueError\u001b[0m: Missing column provided to 'parse_dates': 'Date'"
     ]
    }
   ],
   "source": [
    "df = pd.read_csv('LightStatus.csv', parse_dates=[\"Date\"])"
   ]
  },
  {
   "cell_type": "code",
   "execution_count": null,
   "id": "dd7cf2c9",
   "metadata": {
    "scrolled": true
   },
   "outputs": [],
   "source": [
    "dts = df[\"Date\"]\n",
    "sta = df[\"Time\"]\n",
    "dates = []\n",
    "times = []\n",
    "tmg = []"
   ]
  },
  {
   "cell_type": "code",
   "execution_count": null,
   "id": "390dfa1b",
   "metadata": {},
   "outputs": [],
   "source": [
    "df"
   ]
  },
  {
   "cell_type": "code",
   "execution_count": 29,
   "id": "3e003b2f",
   "metadata": {
    "scrolled": true
   },
   "outputs": [
    {
     "data": {
      "text/plain": [
       "0      [\"22-01-15\"\n",
       "1      [\"22-01-15\"\n",
       "2      [\"22-01-15\"\n",
       "3      [\"22-01-15\"\n",
       "4      [\"22-01-15\"\n",
       "          ...     \n",
       "147    [\"22-01-15\"\n",
       "148    [\"22-01-15\"\n",
       "149    [\"22-01-15\"\n",
       "150    [\"22-01-15\"\n",
       "151    [\"22-01-15\"\n",
       "Name: Date, Length: 152, dtype: object"
      ]
     },
     "execution_count": 29,
     "metadata": {},
     "output_type": "execute_result"
    }
   ],
   "source": [
    "dts"
   ]
  },
  {
   "cell_type": "code",
   "execution_count": 30,
   "id": "08a95c97",
   "metadata": {},
   "outputs": [
    {
     "data": {
      "text/plain": [
       "0      07:29:51\n",
       "1      07:29:51\n",
       "2      07:30:50\n",
       "3      07:30:50\n",
       "4      07:31:50\n",
       "         ...   \n",
       "147    08:42:50\n",
       "148    08:43:50\n",
       "149    08:43:50\n",
       "150    08:44:50\n",
       "151    08:44:50\n",
       "Name: Time, Length: 152, dtype: object"
      ]
     },
     "execution_count": 30,
     "metadata": {},
     "output_type": "execute_result"
    }
   ],
   "source": [
    "sta"
   ]
  },
  {
   "cell_type": "code",
   "execution_count": 46,
   "id": "6beecdb7",
   "metadata": {},
   "outputs": [],
   "source": [
    "for drow in dts:\n",
    "    dates.append(dt.datetime.strptime(drow, '[\"%y-%m-%d\"').date())"
   ]
  },
  {
   "cell_type": "code",
   "execution_count": 48,
   "id": "1b6e2f89",
   "metadata": {},
   "outputs": [],
   "source": [
    "for trow in sta:\n",
    "    times.append(trow)\n",
    "#   tmg = dt.datetime.strptime(row,'%H:%M:%S')"
   ]
  },
  {
   "cell_type": "code",
   "execution_count": 49,
   "id": "bcae6cf4",
   "metadata": {},
   "outputs": [
    {
     "name": "stdout",
     "output_type": "stream",
     "text": [
      "1900-01-01 07:29:51\n",
      "1900-01-01 07:29:51\n",
      "1900-01-01 07:30:50\n",
      "1900-01-01 07:30:50\n",
      "1900-01-01 07:31:50\n",
      "1900-01-01 07:31:50\n",
      "1900-01-01 07:32:50\n",
      "1900-01-01 07:32:50\n",
      "1900-01-01 07:33:50\n",
      "1900-01-01 07:33:50\n",
      "1900-01-01 07:34:50\n",
      "1900-01-01 07:34:50\n",
      "1900-01-01 07:35:50\n",
      "1900-01-01 07:35:50\n",
      "1900-01-01 07:36:50\n",
      "1900-01-01 07:36:50\n",
      "1900-01-01 07:37:50\n",
      "1900-01-01 07:37:50\n",
      "1900-01-01 07:38:50\n",
      "1900-01-01 07:38:50\n",
      "1900-01-01 07:39:50\n",
      "1900-01-01 07:39:50\n",
      "1900-01-01 07:40:50\n",
      "1900-01-01 07:40:50\n",
      "1900-01-01 07:41:50\n",
      "1900-01-01 07:41:50\n",
      "1900-01-01 07:42:50\n",
      "1900-01-01 07:42:50\n",
      "1900-01-01 07:43:50\n",
      "1900-01-01 07:43:50\n",
      "1900-01-01 07:44:50\n",
      "1900-01-01 07:44:50\n",
      "1900-01-01 07:45:50\n",
      "1900-01-01 07:45:50\n",
      "1900-01-01 07:46:50\n",
      "1900-01-01 07:46:50\n",
      "1900-01-01 07:47:50\n",
      "1900-01-01 07:47:50\n",
      "1900-01-01 07:48:50\n",
      "1900-01-01 07:48:50\n",
      "1900-01-01 07:49:50\n",
      "1900-01-01 07:49:50\n",
      "1900-01-01 07:50:50\n",
      "1900-01-01 07:50:50\n",
      "1900-01-01 07:51:50\n",
      "1900-01-01 07:51:50\n",
      "1900-01-01 07:52:50\n",
      "1900-01-01 07:52:50\n",
      "1900-01-01 07:53:50\n",
      "1900-01-01 07:53:50\n",
      "1900-01-01 07:54:50\n",
      "1900-01-01 07:54:50\n",
      "1900-01-01 07:55:50\n",
      "1900-01-01 07:55:50\n",
      "1900-01-01 07:56:50\n",
      "1900-01-01 07:56:50\n",
      "1900-01-01 07:57:50\n",
      "1900-01-01 07:57:50\n",
      "1900-01-01 07:58:50\n",
      "1900-01-01 07:58:50\n",
      "1900-01-01 07:59:50\n",
      "1900-01-01 07:59:50\n",
      "1900-01-01 08:00:50\n",
      "1900-01-01 08:00:50\n",
      "1900-01-01 08:01:50\n",
      "1900-01-01 08:01:50\n",
      "1900-01-01 08:02:50\n",
      "1900-01-01 08:02:50\n",
      "1900-01-01 08:03:50\n",
      "1900-01-01 08:03:50\n",
      "1900-01-01 08:04:50\n",
      "1900-01-01 08:04:50\n",
      "1900-01-01 08:05:50\n",
      "1900-01-01 08:05:50\n",
      "1900-01-01 08:06:50\n",
      "1900-01-01 08:06:50\n",
      "1900-01-01 08:07:50\n",
      "1900-01-01 08:07:50\n",
      "1900-01-01 08:08:50\n",
      "1900-01-01 08:08:50\n",
      "1900-01-01 08:09:50\n",
      "1900-01-01 08:09:50\n",
      "1900-01-01 08:10:50\n",
      "1900-01-01 08:10:50\n",
      "1900-01-01 08:11:50\n",
      "1900-01-01 08:11:50\n",
      "1900-01-01 08:12:50\n",
      "1900-01-01 08:12:50\n",
      "1900-01-01 08:13:50\n",
      "1900-01-01 08:13:50\n",
      "1900-01-01 08:14:50\n",
      "1900-01-01 08:14:50\n",
      "1900-01-01 08:15:50\n",
      "1900-01-01 08:15:50\n",
      "1900-01-01 08:16:50\n",
      "1900-01-01 08:16:50\n",
      "1900-01-01 08:17:50\n",
      "1900-01-01 08:17:50\n",
      "1900-01-01 08:18:50\n",
      "1900-01-01 08:18:50\n",
      "1900-01-01 08:19:50\n",
      "1900-01-01 08:19:50\n",
      "1900-01-01 08:20:50\n",
      "1900-01-01 08:20:50\n",
      "1900-01-01 08:21:50\n",
      "1900-01-01 08:21:50\n",
      "1900-01-01 08:22:50\n",
      "1900-01-01 08:22:50\n",
      "1900-01-01 08:23:50\n",
      "1900-01-01 08:23:50\n",
      "1900-01-01 08:24:50\n",
      "1900-01-01 08:24:50\n",
      "1900-01-01 08:25:50\n",
      "1900-01-01 08:25:50\n",
      "1900-01-01 08:26:50\n",
      "1900-01-01 08:26:50\n",
      "1900-01-01 08:27:50\n",
      "1900-01-01 08:27:50\n",
      "1900-01-01 08:28:50\n",
      "1900-01-01 08:28:50\n",
      "1900-01-01 08:29:50\n",
      "1900-01-01 08:29:50\n",
      "1900-01-01 08:30:50\n",
      "1900-01-01 08:30:50\n",
      "1900-01-01 08:31:50\n",
      "1900-01-01 08:31:50\n",
      "1900-01-01 08:32:50\n",
      "1900-01-01 08:32:50\n",
      "1900-01-01 08:33:50\n",
      "1900-01-01 08:33:50\n",
      "1900-01-01 08:34:50\n",
      "1900-01-01 08:34:50\n",
      "1900-01-01 08:35:50\n",
      "1900-01-01 08:35:50\n",
      "1900-01-01 08:36:50\n",
      "1900-01-01 08:36:50\n",
      "1900-01-01 08:37:50\n",
      "1900-01-01 08:37:50\n",
      "1900-01-01 08:38:50\n",
      "1900-01-01 08:38:50\n",
      "1900-01-01 08:39:50\n",
      "1900-01-01 08:39:50\n",
      "1900-01-01 08:40:50\n",
      "1900-01-01 08:40:50\n",
      "1900-01-01 08:41:50\n",
      "1900-01-01 08:41:50\n",
      "1900-01-01 08:42:50\n",
      "1900-01-01 08:42:50\n",
      "1900-01-01 08:43:50\n",
      "1900-01-01 08:43:50\n",
      "1900-01-01 08:44:50\n",
      "1900-01-01 08:44:50\n"
     ]
    }
   ],
   "source": [
    "for trow in sta:\n",
    "    try:\n",
    "        t = datetime.datetime.strptime(trow, '%H:%M:%S')\n",
    "    except ValueError:\n",
    "        t = None\n",
    "    print(t)"
   ]
  },
  {
   "cell_type": "code",
   "execution_count": 43,
   "id": "0a6a579f",
   "metadata": {},
   "outputs": [
    {
     "data": {
      "text/plain": [
       "str"
      ]
     },
     "execution_count": 43,
     "metadata": {},
     "output_type": "execute_result"
    }
   ],
   "source": [
    "type(trow[1])"
   ]
  },
  {
   "cell_type": "code",
   "execution_count": 44,
   "id": "b6474b99",
   "metadata": {},
   "outputs": [
    {
     "data": {
      "text/plain": [
       "datetime.date(2022, 1, 15)"
      ]
     },
     "execution_count": 44,
     "metadata": {},
     "output_type": "execute_result"
    }
   ],
   "source": [
    "dates[5]"
   ]
  },
  {
   "cell_type": "code",
   "execution_count": 34,
   "id": "0217a082",
   "metadata": {},
   "outputs": [
    {
     "data": {
      "text/plain": [
       "'07:29:51'"
      ]
     },
     "execution_count": 34,
     "metadata": {},
     "output_type": "execute_result"
    }
   ],
   "source": [
    "trow"
   ]
  },
  {
   "cell_type": "code",
   "execution_count": null,
   "id": "b1faa43d",
   "metadata": {},
   "outputs": [],
   "source": []
  },
  {
   "cell_type": "code",
   "execution_count": null,
   "id": "8714cea3",
   "metadata": {
    "scrolled": true
   },
   "outputs": [],
   "source": [
    "sta"
   ]
  },
  {
   "cell_type": "code",
   "execution_count": null,
   "id": "0b29f8fe",
   "metadata": {},
   "outputs": [],
   "source": [
    "dts"
   ]
  },
  {
   "cell_type": "code",
   "execution_count": null,
   "id": "93d1e291",
   "metadata": {
    "scrolled": true
   },
   "outputs": [],
   "source": [
    "date_obj = datetime.strptime(dates[1], '{\"%y-%m-%d\"')"
   ]
  },
  {
   "cell_type": "code",
   "execution_count": null,
   "id": "51c96f68",
   "metadata": {},
   "outputs": [],
   "source": [
    "fltr = df['Name'] == Front Lights' & df['State'] =='1'"
   ]
  },
  {
   "cell_type": "code",
   "execution_count": null,
   "id": "2fd93778",
   "metadata": {},
   "outputs": [],
   "source": [
    "df.loc[fltr]"
   ]
  },
  {
   "cell_type": "code",
   "execution_count": null,
   "id": "5927b55f",
   "metadata": {},
   "outputs": [],
   "source": []
  }
 ],
 "metadata": {
  "kernelspec": {
   "display_name": "Python 3.9.7 64-bit ('base': conda)",
   "language": "python",
   "name": "python397jvsc74a57bd00e11b90f93aaa7289cef3f28b2dc7dc133f782097880f019f03f57b76337931a"
  },
  "language_info": {
   "codemirror_mode": {
    "name": "ipython",
    "version": 3
   },
   "file_extension": ".py",
   "mimetype": "text/x-python",
   "name": "python",
   "nbconvert_exporter": "python",
   "pygments_lexer": "ipython3",
   "version": "3.9.7"
  }
 },
 "nbformat": 4,
 "nbformat_minor": 5
}
