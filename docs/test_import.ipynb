{
 "cells": [
  {
   "cell_type": "code",
   "execution_count": 62,
   "id": "db9d8570-b611-40c2-8fb2-e3bb9537dd3c",
   "metadata": {},
   "outputs": [],
   "source": [
    "sys.path.append(\"/home/mikee/projects/light_cont/src\")"
   ]
  },
  {
   "cell_type": "code",
   "execution_count": 60,
   "id": "2e5ae774-215a-497b-9360-9c49e553d6d5",
   "metadata": {},
   "outputs": [],
   "source": [
    "import sys"
   ]
  },
  {
   "cell_type": "code",
   "execution_count": 63,
   "id": "4aef3f86-837d-42c3-b6f2-7e2576298af4",
   "metadata": {},
   "outputs": [
    {
     "name": "stdout",
     "output_type": "stream",
     "text": [
      "['/home/mikee/projects/Health', '/home/mikee/anaconda3/lib/python39.zip', '/home/mikee/anaconda3/lib/python3.9', '/home/mikee/anaconda3/lib/python3.9/lib-dynload', '', '/home/mikee/anaconda3/lib/python3.9/site-packages', '/home/mikee/anaconda3/lib/python3.9/site-packages/locket-0.2.1-py3.9.egg', '/home/mikee/anaconda3/lib/python3.9/site-packages/IPython/extensions', '/home/mikee/.ipython', '/home/mikee/projects/lightcst', '/home/mikee/projects/lightcst/src', '/home/mikee/projects/lightcst/src', '/home/mikee/projects/light_cont/src']\n"
     ]
    }
   ],
   "source": [
    "print(sys.path)"
   ]
  },
  {
   "cell_type": "code",
   "execution_count": 76,
   "id": "3803a1b3-c582-43f6-90b3-c3181560dbbb",
   "metadata": {},
   "outputs": [],
   "source": [
    "from rdline import getfname as gfn"
   ]
  },
  {
   "cell_type": "code",
   "execution_count": 73,
   "id": "3902c48b-0b32-4ec8-99f5-8189a0050dec",
   "metadata": {},
   "outputs": [
    {
     "data": {
      "text/plain": [
       "<function rdline.getfname()>"
      ]
     },
     "execution_count": 73,
     "metadata": {},
     "output_type": "execute_result"
    }
   ],
   "source": [
    "gfn"
   ]
  },
  {
   "cell_type": "code",
   "execution_count": 65,
   "id": "7d48857f-43d4-4328-a5d0-8a6e3f89e624",
   "metadata": {},
   "outputs": [
    {
     "data": {
      "text/plain": [
       "<function rdline.getfname()>"
      ]
     },
     "execution_count": 65,
     "metadata": {},
     "output_type": "execute_result"
    }
   ],
   "source": [
    "rdline.getfname"
   ]
  },
  {
   "cell_type": "code",
   "execution_count": null,
   "id": "35155e50-bef0-458b-a6e7-d3319efb1423",
   "metadata": {},
   "outputs": [],
   "source": [
    "rdline.lightstatus"
   ]
  },
  {
   "cell_type": "code",
   "execution_count": null,
   "id": "1673dc86-39da-4146-a263-53cafa28de92",
   "metadata": {},
   "outputs": [],
   "source": []
  }
 ],
 "metadata": {
  "kernelspec": {
   "display_name": "Python 3.9.7 ('.venv': venv)",
   "language": "python",
   "name": "python3"
  },
  "language_info": {
   "codemirror_mode": {
    "name": "ipython",
    "version": 3
   },
   "file_extension": ".py",
   "mimetype": "text/x-python",
   "name": "python",
   "nbconvert_exporter": "python",
   "pygments_lexer": "ipython3",
   "version": "3.9.7"
  },
  "vscode": {
   "interpreter": {
    "hash": "d807eb52b48ab7928eb8f81e2236e9c68fdee418ddd3f4cb2d363c4220c2edee"
   }
  }
 },
 "nbformat": 4,
 "nbformat_minor": 5
}
